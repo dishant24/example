{
 "cells": [
  {
   "cell_type": "code",
   "execution_count": 1,
   "id": "e49f5b6e-fc77-483b-945c-076363eb6f93",
   "metadata": {},
   "outputs": [],
   "source": [
    "import matplotlib.pyplot as plt\n",
    "import seaborn as sns\n",
    "import numpy as np\n",
    "import sklearn\n",
    "from sklearn.model_selection import train_test_split "
   ]
  },
  {
   "cell_type": "code",
   "execution_count": 2,
   "id": "f6a48441-c8af-49d8-9995-1cf3014bb0c6",
   "metadata": {},
   "outputs": [],
   "source": [
    "import cv2\n",
    "import os\n",
    "from pathlib import Path\n",
    "import keras"
   ]
  },
  {
   "cell_type": "code",
   "execution_count": 3,
   "id": "6355a93a-d939-4f83-aaec-622f144260c1",
   "metadata": {},
   "outputs": [],
   "source": [
    "def load_data(img_path,lbl_path):\n",
    "    \n",
    "    im_files = os.listdir(img_path)\n",
    "    img_files = [img_path + a for a in im_files]\n",
    "    lb_files = os.listdir(lbl_path)\n",
    "    lbl_files = [lbl_path+ b for b in lb_files]\n",
    "    img = [cv2.imread(x) for x in img_files]\n",
    "    label = [cv2.imread(y) for y in lbl_files]\n",
    "    return img,label"
   ]
  },
  {
   "cell_type": "code",
   "execution_count": 4,
   "id": "9d9808ac-7da4-45f1-99ea-a3f384715c7f",
   "metadata": {},
   "outputs": [],
   "source": [
    "images, labels = load_data('C:/Users/disha/Downloads/archive/Food Segmentation/images/','C:/Users/disha/Downloads/archive/Food Segmentation/masks/')"
   ]
  },
  {
   "cell_type": "code",
   "execution_count": 5,
   "id": "c44a682e-a91e-4ff3-b3c6-16f5fd08c3ec",
   "metadata": {},
   "outputs": [],
   "source": [
    "images = np.array([cv2.resize(i, (512, 512)).astype('float32') for i in images])"
   ]
  },
  {
   "cell_type": "code",
   "execution_count": 6,
   "id": "f3ea9d37-bba4-4e3e-a55a-3cdbe0a3552b",
   "metadata": {},
   "outputs": [],
   "source": [
    "labels = np.array([cv2.resize(i, (512, 512)).astype('float32') for i in labels])"
   ]
  },
  {
   "cell_type": "code",
   "execution_count": 7,
   "id": "d86bc041-7cd1-49ad-9276-d9a6a68acdaf",
   "metadata": {},
   "outputs": [
    {
     "name": "stdout",
     "output_type": "stream",
     "text": [
      "16 4\n"
     ]
    }
   ],
   "source": [
    "train_im , test_im, train_masks, test_masks = train_test_split(images,labels,test_size=0.2)\n",
    "print(len(train_im), len(test_im))"
   ]
  },
  {
   "cell_type": "code",
   "execution_count": 8,
   "id": "0ed63da9-ae22-418e-a266-41d38289ee48",
   "metadata": {},
   "outputs": [],
   "source": [
    "from keras.layers import Conv2D, Input, MaxPool2D, Conv2DTranspose, Activation, BatchNormalization, Concatenate\n",
    "from keras.models import Model"
   ]
  },
  {
   "cell_type": "code",
   "execution_count": 9,
   "id": "d3ab4489-b91a-486a-b490-2726a1a913ba",
   "metadata": {},
   "outputs": [],
   "source": [
    "def conv_block(inputs, num_filters):\n",
    "    x = Conv2D(num_filters,3, padding='same')(inputs)\n",
    "    x = BatchNormalization()(x)\n",
    "    x = Activation('relu')(x)\n",
    "\n",
    "    x = Conv2D(num_filters,3, padding='same')(inputs)\n",
    "    x = BatchNormalization()(x)\n",
    "    x = Activation('relu')(x)\n",
    "\n",
    "    return x\n",
    "\n",
    "def encoder_block(inputs,num_filters):\n",
    "    x = conv_block(inputs,num_filters)\n",
    "    p = MaxPool2D((2,2))(x)\n",
    "    return x,p\n",
    "\n",
    "\n",
    "def decoder_block(inputs, skip_features,num_filters):\n",
    "    x = Conv2DTranspose(num_filters,(2,2), strides=2,padding='same')(inputs)\n",
    "    x = Concatenate()([x, skip_features])\n",
    "    x = conv_block(x,num_filters)\n",
    "    return x\n",
    "\n",
    "def bulid_unet(input_shape):\n",
    "    inputs = Input(input_shape)\n",
    "\n",
    "    s1, p1 = encoder_block(inputs, 64)\n",
    "    s2, p2 = encoder_block(p1, 128)\n",
    "    s3, p3 = encoder_block(p2, 256)\n",
    "    s4, p4 = encoder_block(p3, 512)\n",
    "\n",
    "    b1 = conv_block(p4,1024)\n",
    "\n",
    "    d1 = decoder_block(b1, s4,512)\n",
    "    d2 = decoder_block(d1, s3,256)\n",
    "    d3 = decoder_block(d2, s2,128)\n",
    "    d4 = decoder_block(d3, s1,64)\n",
    "\n",
    "    outputs = Conv2D(1,(1,1), padding='same',activation='sigmoid')(d4)\n",
    "\n",
    "    model = Model(inputs,outputs,name='U-net')\n",
    "    return model"
   ]
  },
  {
   "cell_type": "code",
   "execution_count": 10,
   "id": "ff05068b-db6e-4940-99e2-2e8694f1531d",
   "metadata": {},
   "outputs": [
    {
     "name": "stdout",
     "output_type": "stream",
     "text": [
      "Model: \"U-net\"\n",
      "__________________________________________________________________________________________________\n",
      " Layer (type)                Output Shape                 Param #   Connected to                  \n",
      "==================================================================================================\n",
      " input_1 (InputLayer)        [(None, 512, 512, 3)]        0         []                            \n",
      "                                                                                                  \n",
      " conv2d_1 (Conv2D)           (None, 512, 512, 64)         1792      ['input_1[0][0]']             \n",
      "                                                                                                  \n",
      " batch_normalization_1 (Bat  (None, 512, 512, 64)         256       ['conv2d_1[0][0]']            \n",
      " chNormalization)                                                                                 \n",
      "                                                                                                  \n",
      " activation_1 (Activation)   (None, 512, 512, 64)         0         ['batch_normalization_1[0][0]'\n",
      "                                                                    ]                             \n",
      "                                                                                                  \n",
      " max_pooling2d (MaxPooling2  (None, 256, 256, 64)         0         ['activation_1[0][0]']        \n",
      " D)                                                                                               \n",
      "                                                                                                  \n",
      " conv2d_3 (Conv2D)           (None, 256, 256, 128)        73856     ['max_pooling2d[0][0]']       \n",
      "                                                                                                  \n",
      " batch_normalization_3 (Bat  (None, 256, 256, 128)        512       ['conv2d_3[0][0]']            \n",
      " chNormalization)                                                                                 \n",
      "                                                                                                  \n",
      " activation_3 (Activation)   (None, 256, 256, 128)        0         ['batch_normalization_3[0][0]'\n",
      "                                                                    ]                             \n",
      "                                                                                                  \n",
      " max_pooling2d_1 (MaxPoolin  (None, 128, 128, 128)        0         ['activation_3[0][0]']        \n",
      " g2D)                                                                                             \n",
      "                                                                                                  \n",
      " conv2d_5 (Conv2D)           (None, 128, 128, 256)        295168    ['max_pooling2d_1[0][0]']     \n",
      "                                                                                                  \n",
      " batch_normalization_5 (Bat  (None, 128, 128, 256)        1024      ['conv2d_5[0][0]']            \n",
      " chNormalization)                                                                                 \n",
      "                                                                                                  \n",
      " activation_5 (Activation)   (None, 128, 128, 256)        0         ['batch_normalization_5[0][0]'\n",
      "                                                                    ]                             \n",
      "                                                                                                  \n",
      " max_pooling2d_2 (MaxPoolin  (None, 64, 64, 256)          0         ['activation_5[0][0]']        \n",
      " g2D)                                                                                             \n",
      "                                                                                                  \n",
      " conv2d_7 (Conv2D)           (None, 64, 64, 512)          1180160   ['max_pooling2d_2[0][0]']     \n",
      "                                                                                                  \n",
      " batch_normalization_7 (Bat  (None, 64, 64, 512)          2048      ['conv2d_7[0][0]']            \n",
      " chNormalization)                                                                                 \n",
      "                                                                                                  \n",
      " activation_7 (Activation)   (None, 64, 64, 512)          0         ['batch_normalization_7[0][0]'\n",
      "                                                                    ]                             \n",
      "                                                                                                  \n",
      " max_pooling2d_3 (MaxPoolin  (None, 32, 32, 512)          0         ['activation_7[0][0]']        \n",
      " g2D)                                                                                             \n",
      "                                                                                                  \n",
      " conv2d_9 (Conv2D)           (None, 32, 32, 1024)         4719616   ['max_pooling2d_3[0][0]']     \n",
      "                                                                                                  \n",
      " batch_normalization_9 (Bat  (None, 32, 32, 1024)         4096      ['conv2d_9[0][0]']            \n",
      " chNormalization)                                                                                 \n",
      "                                                                                                  \n",
      " activation_9 (Activation)   (None, 32, 32, 1024)         0         ['batch_normalization_9[0][0]'\n",
      "                                                                    ]                             \n",
      "                                                                                                  \n",
      " conv2d_transpose (Conv2DTr  (None, 64, 64, 512)          2097664   ['activation_9[0][0]']        \n",
      " anspose)                                                                                         \n",
      "                                                                                                  \n",
      " concatenate (Concatenate)   (None, 64, 64, 1024)         0         ['conv2d_transpose[0][0]',    \n",
      "                                                                     'activation_7[0][0]']        \n",
      "                                                                                                  \n",
      " conv2d_11 (Conv2D)          (None, 64, 64, 512)          4719104   ['concatenate[0][0]']         \n",
      "                                                                                                  \n",
      " batch_normalization_11 (Ba  (None, 64, 64, 512)          2048      ['conv2d_11[0][0]']           \n",
      " tchNormalization)                                                                                \n",
      "                                                                                                  \n",
      " activation_11 (Activation)  (None, 64, 64, 512)          0         ['batch_normalization_11[0][0]\n",
      "                                                                    ']                            \n",
      "                                                                                                  \n",
      " conv2d_transpose_1 (Conv2D  (None, 128, 128, 256)        524544    ['activation_11[0][0]']       \n",
      " Transpose)                                                                                       \n",
      "                                                                                                  \n",
      " concatenate_1 (Concatenate  (None, 128, 128, 512)        0         ['conv2d_transpose_1[0][0]',  \n",
      " )                                                                   'activation_5[0][0]']        \n",
      "                                                                                                  \n",
      " conv2d_13 (Conv2D)          (None, 128, 128, 256)        1179904   ['concatenate_1[0][0]']       \n",
      "                                                                                                  \n",
      " batch_normalization_13 (Ba  (None, 128, 128, 256)        1024      ['conv2d_13[0][0]']           \n",
      " tchNormalization)                                                                                \n",
      "                                                                                                  \n",
      " activation_13 (Activation)  (None, 128, 128, 256)        0         ['batch_normalization_13[0][0]\n",
      "                                                                    ']                            \n",
      "                                                                                                  \n",
      " conv2d_transpose_2 (Conv2D  (None, 256, 256, 128)        131200    ['activation_13[0][0]']       \n",
      " Transpose)                                                                                       \n",
      "                                                                                                  \n",
      " concatenate_2 (Concatenate  (None, 256, 256, 256)        0         ['conv2d_transpose_2[0][0]',  \n",
      " )                                                                   'activation_3[0][0]']        \n",
      "                                                                                                  \n",
      " conv2d_15 (Conv2D)          (None, 256, 256, 128)        295040    ['concatenate_2[0][0]']       \n",
      "                                                                                                  \n",
      " batch_normalization_15 (Ba  (None, 256, 256, 128)        512       ['conv2d_15[0][0]']           \n",
      " tchNormalization)                                                                                \n",
      "                                                                                                  \n",
      " activation_15 (Activation)  (None, 256, 256, 128)        0         ['batch_normalization_15[0][0]\n",
      "                                                                    ']                            \n",
      "                                                                                                  \n",
      " conv2d_transpose_3 (Conv2D  (None, 512, 512, 64)         32832     ['activation_15[0][0]']       \n",
      " Transpose)                                                                                       \n",
      "                                                                                                  \n",
      " concatenate_3 (Concatenate  (None, 512, 512, 128)        0         ['conv2d_transpose_3[0][0]',  \n",
      " )                                                                   'activation_1[0][0]']        \n",
      "                                                                                                  \n",
      " conv2d_17 (Conv2D)          (None, 512, 512, 64)         73792     ['concatenate_3[0][0]']       \n",
      "                                                                                                  \n",
      " batch_normalization_17 (Ba  (None, 512, 512, 64)         256       ['conv2d_17[0][0]']           \n",
      " tchNormalization)                                                                                \n",
      "                                                                                                  \n",
      " activation_17 (Activation)  (None, 512, 512, 64)         0         ['batch_normalization_17[0][0]\n",
      "                                                                    ']                            \n",
      "                                                                                                  \n",
      " conv2d_18 (Conv2D)          (None, 512, 512, 1)          65        ['activation_17[0][0]']       \n",
      "                                                                                                  \n",
      "==================================================================================================\n",
      "Total params: 15336513 (58.50 MB)\n",
      "Trainable params: 15330625 (58.48 MB)\n",
      "Non-trainable params: 5888 (23.00 KB)\n",
      "__________________________________________________________________________________________________\n"
     ]
    }
   ],
   "source": [
    "input_shape = train_im[0].shape\n",
    "model = bulid_unet(input_shape)\n",
    "model.summary()"
   ]
  },
  {
   "cell_type": "code",
   "execution_count": 11,
   "id": "44eab1ef-3649-494d-9655-b9b04c115025",
   "metadata": {},
   "outputs": [
    {
     "name": "stdout",
     "output_type": "stream",
     "text": [
      "Segmentation Models: using `keras` framework.\n"
     ]
    }
   ],
   "source": [
    "from segmentation_models.metrics import iou_score\n",
    "from segmentation_models.losses import dice_loss\n",
    "from keras.optimizers import Adam\n",
    "\n",
    "# Compiling the model\n",
    "model.compile(optimizer=Adam(learning_rate=1e-3),  # Define optimizer and learning rate\n",
    "              loss=dice_loss,                      # Dice loss function\n",
    "              metrics=[iou_score])                 # Intersection over Union (IoU) & Dice score"
   ]
  },
  {
   "cell_type": "code",
   "execution_count": null,
   "id": "4f3e34d8-d54a-4297-93d1-facc1e22f661",
   "metadata": {},
   "outputs": [
    {
     "name": "stdout",
     "output_type": "stream",
     "text": [
      "Epoch 1/10\n",
      "4/4 [==============================] - 52s 12s/step - loss: -0.0153 - iou_score: 1.1052\n",
      "Epoch 2/10\n",
      "1/4 [======>.......................] - ETA: 36s - loss: -0.3661 - iou_score: 2.1760"
     ]
    }
   ],
   "source": [
    "# Training with batch size 64, for 50 epochs\n",
    "history = model.fit(train_im,train_masks,\n",
    "                    batch_size=4,\n",
    "                    epochs=10)"
   ]
  },
  {
   "cell_type": "code",
   "execution_count": null,
   "id": "91ffba65-1562-4743-a303-131289b6805c",
   "metadata": {},
   "outputs": [],
   "source": []
  }
 ],
 "metadata": {
  "kernelspec": {
   "display_name": "Python 3 (ipykernel)",
   "language": "python",
   "name": "python3"
  },
  "language_info": {
   "codemirror_mode": {
    "name": "ipython",
    "version": 3
   },
   "file_extension": ".py",
   "mimetype": "text/x-python",
   "name": "python",
   "nbconvert_exporter": "python",
   "pygments_lexer": "ipython3",
   "version": "3.11.5"
  }
 },
 "nbformat": 4,
 "nbformat_minor": 5
}
