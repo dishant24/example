{
 "cells": [
  {
   "cell_type": "code",
   "execution_count": 4,
   "id": "ef32c355-dd14-4677-9d89-cafb2c8d8bdf",
   "metadata": {},
   "outputs": [],
   "source": [
    "import time \n",
    "import threading"
   ]
  },
  {
   "cell_type": "code",
   "execution_count": 5,
   "id": "547f1aef-d04b-4cff-a58c-8d96f9277099",
   "metadata": {},
   "outputs": [],
   "source": [
    "def display():\n",
    "    print(\"Hello\")"
   ]
  },
  {
   "cell_type": "code",
   "execution_count": 6,
   "id": "a2d95329-f627-47f3-b6a0-29bc630e3dac",
   "metadata": {},
   "outputs": [],
   "source": [
    "if __name__ == 'main':\n",
    "    print(\"Hello Main\")\n",
    "    time.sleep(0.2)\n",
    "    t = threading.Thread(display)\n",
    "    t.start()\n",
    "    print(\"End\")"
   ]
  },
  {
   "cell_type": "code",
   "execution_count": null,
   "id": "e91737b3-edfb-4840-b3b1-695f7b766b55",
   "metadata": {},
   "outputs": [],
   "source": []
  }
 ],
 "metadata": {
  "kernelspec": {
   "display_name": "Python 3 (ipykernel)",
   "language": "python",
   "name": "python3"
  },
  "language_info": {
   "codemirror_mode": {
    "name": "ipython",
    "version": 3
   },
   "file_extension": ".py",
   "mimetype": "text/x-python",
   "name": "python",
   "nbconvert_exporter": "python",
   "pygments_lexer": "ipython3",
   "version": "3.11.5"
  }
 },
 "nbformat": 4,
 "nbformat_minor": 5
}
